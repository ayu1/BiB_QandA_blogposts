{
 "cells": [
  {
   "cell_type": "markdown",
   "id": "7acd336e",
   "metadata": {
    "tags": []
   },
   "source": [
    "# Converting Q&A Slack messages into text format\n",
    "### Alice Yu, 09/02/23"
   ]
  },
  {
   "cell_type": "code",
   "execution_count": 1,
   "id": "956496a2",
   "metadata": {},
   "outputs": [],
   "source": [
    "import os\n",
    "import pandas as pd\n",
    "import numpy as np\n",
    "import pandas.io.json as pd_json"
   ]
  },
  {
   "cell_type": "code",
   "execution_count": 2,
   "id": "a131ae93",
   "metadata": {},
   "outputs": [],
   "source": [
    "# Function for cleaning message, replacing chars, etc.\n",
    "\n",
    "def cleanMsg(msg, replace_dict):\n",
    "    \n",
    "    # Replace username ID with usernames\n",
    "    for keys in replace_dict:\n",
    "        msg = msg.replace(keys, replace_dict[keys])\n",
    "        \n",
    "    # Remove slack formatting characters\n",
    "    msg = msg.replace(\"&gt; \", \"\") \n",
    "    msg = msg.strip()\n",
    "    msg = msg.capitalize()\n",
    "    msg = msg.replace(\"&amp;\", \"&\")\n",
    "    msg = msg.replace(\"<\", \"\")\n",
    "    msg = msg.replace(\">\", \"\")\n",
    "    \n",
    "    return(msg)\n",
    "\n",
    "# Function that converts data frame into dictionary that stores timestamped messages\n",
    "# key is timestamp\n",
    "# value is user, text, and reply list\n",
    "\n",
    "def convertDFtoDict(df_curr):\n",
    "    msg_dict = {}\n",
    "    for i in range(0,df_curr.shape[0]):\n",
    "\n",
    "        # Saving variables\n",
    "        timestamp = str(df_curr[\"ts\"].iloc[i,])\n",
    "        username = users_dict[df_curr[\"user\"].iloc[i,]]\n",
    "        msg_text = str(df_curr[\"text\"].iloc[i,])\n",
    "        \n",
    "        # Appending time stamps that are associated with each thread\n",
    "        replies_ts = []\n",
    "        try:\n",
    "            for reply in df_curr[\"replies\"].iloc[i,]:\n",
    "                replies_ts.append(reply[\"ts\"])\n",
    "        except TypeError:\n",
    "            var = 0\n",
    "                        \n",
    "        # Creating timestamp message entry\n",
    "        msg_dict[timestamp] = {\"user_id\":username, \n",
    "                               \"msg_text\":msg_text, \n",
    "                               \"reply_count\":replies_ts}\n",
    "        \n",
    "    return(msg_dict)"
   ]
  },
  {
   "cell_type": "markdown",
   "id": "028c709e-e676-405a-a674-a9082faff08c",
   "metadata": {},
   "source": [
    "# USER VARIABLES"
   ]
  },
  {
   "cell_type": "code",
   "execution_count": 3,
   "id": "8df9bdf6-6fa5-4c82-adac-77b45a7960b1",
   "metadata": {},
   "outputs": [],
   "source": [
    "# Change variables based on your analysis\n",
    "\n",
    "# OPTIONAL: setting path to folder where files are located\n",
    "filepath = \"/Users/aliceyu/Documents/BitsInBio/\"\n",
    "\n",
    "# Path to json files with Slack messages\n",
    "jsonfiles = os.listdir(filepath + \"q-and-a/\")\n",
    "\n",
    "outputfolder = \"converted-q-and-a/\"\n",
    "\n",
    "interview_company = \"Poly\" #name of company. this is used for the output file\n",
    "qanda_dates = [\"2022-01-20\", \"2022-01-21\", \"2022-01-27\"] # dates that the interview spanned across\n",
    "\n"
   ]
  },
  {
   "cell_type": "markdown",
   "id": "4a631fec-d8ad-4f75-9232-7fc1119ba8d0",
   "metadata": {},
   "source": [
    "### Creating a data frame with all the dates"
   ]
  },
  {
   "cell_type": "code",
   "execution_count": 4,
   "id": "9c15f260-da96-4dfc-9352-fa51aa14a70a",
   "metadata": {},
   "outputs": [],
   "source": [
    "df_list = []\n",
    "for i in range(0, len(jsonfiles)):\n",
    "    if \".json\" in jsonfiles[i]:\n",
    "        df_curr = pd.read_json(filepath + \"q-and-a/\" + jsonfiles[i]) #, dtype = \"object\", encoding=\"latin-1\")\n",
    "        df_curr[\"date\"] = jsonfiles[i].replace(\".json\", \"\")\n",
    "        df_list.append(df_curr)\n",
    "    \n",
    "df = pd.concat(df_list)\n",
    "\n",
    "# Filter out default messages that are not relevant to the Q-and-A\n",
    "df = df[df[\"text\"].str.contains(\"has joined the channel\") == False]\n",
    "df = df[df[\"text\"].str.contains(\"Set the channel topic\") == False]"
   ]
  },
  {
   "cell_type": "code",
   "execution_count": 5,
   "id": "5350baca-2dec-4c2f-a63c-40c0f5624375",
   "metadata": {},
   "outputs": [
    {
     "data": {
      "text/html": [
       "<div>\n",
       "<style scoped>\n",
       "    .dataframe tbody tr th:only-of-type {\n",
       "        vertical-align: middle;\n",
       "    }\n",
       "\n",
       "    .dataframe tbody tr th {\n",
       "        vertical-align: top;\n",
       "    }\n",
       "\n",
       "    .dataframe thead th {\n",
       "        text-align: right;\n",
       "    }\n",
       "</style>\n",
       "<table border=\"1\" class=\"dataframe\">\n",
       "  <thead>\n",
       "    <tr style=\"text-align: right;\">\n",
       "      <th></th>\n",
       "      <th>client_msg_id</th>\n",
       "      <th>type</th>\n",
       "      <th>text</th>\n",
       "      <th>user</th>\n",
       "      <th>ts</th>\n",
       "      <th>team</th>\n",
       "      <th>user_team</th>\n",
       "      <th>source_team</th>\n",
       "      <th>user_profile</th>\n",
       "      <th>attachments</th>\n",
       "      <th>...</th>\n",
       "      <th>subtype</th>\n",
       "      <th>root</th>\n",
       "      <th>bot_id</th>\n",
       "      <th>bot_profile</th>\n",
       "      <th>files</th>\n",
       "      <th>upload</th>\n",
       "      <th>display_as_bot</th>\n",
       "      <th>purpose</th>\n",
       "      <th>inviter</th>\n",
       "      <th>topic</th>\n",
       "    </tr>\n",
       "  </thead>\n",
       "  <tbody>\n",
       "    <tr>\n",
       "      <th>0</th>\n",
       "      <td>5de6bc88-704b-4941-81de-2b06abc4d2ae</td>\n",
       "      <td>message</td>\n",
       "      <td>Hey,\\n\\nI would kindly invite you to join our ...</td>\n",
       "      <td>U03RA8H1RMG</td>\n",
       "      <td>1.661327e+09</td>\n",
       "      <td>T02RKFYQV5L</td>\n",
       "      <td>T02RKFYQV5L</td>\n",
       "      <td>T02RKFYQV5L</td>\n",
       "      <td>{'avatar_hash': 'aa45bbd49037', 'image_72': 'h...</td>\n",
       "      <td>[{'from_url': 'http://scverse.zulipchat.com/',...</td>\n",
       "      <td>...</td>\n",
       "      <td>NaN</td>\n",
       "      <td>NaN</td>\n",
       "      <td>NaN</td>\n",
       "      <td>NaN</td>\n",
       "      <td>NaN</td>\n",
       "      <td>NaN</td>\n",
       "      <td>NaN</td>\n",
       "      <td>NaN</td>\n",
       "      <td>NaN</td>\n",
       "      <td>NaN</td>\n",
       "    </tr>\n",
       "    <tr>\n",
       "      <th>1</th>\n",
       "      <td>ed247811-15b0-43ae-92a8-362cbb1f9018</td>\n",
       "      <td>message</td>\n",
       "      <td>This is great, thanks a lot!</td>\n",
       "      <td>U03URSK2PJR</td>\n",
       "      <td>1.661329e+09</td>\n",
       "      <td>T02RKFYQV5L</td>\n",
       "      <td>T02RKFYQV5L</td>\n",
       "      <td>T02RKFYQV5L</td>\n",
       "      <td>{'avatar_hash': '077a2bba0f9c', 'image_72': 'h...</td>\n",
       "      <td>NaN</td>\n",
       "      <td>...</td>\n",
       "      <td>NaN</td>\n",
       "      <td>NaN</td>\n",
       "      <td>NaN</td>\n",
       "      <td>NaN</td>\n",
       "      <td>NaN</td>\n",
       "      <td>NaN</td>\n",
       "      <td>NaN</td>\n",
       "      <td>NaN</td>\n",
       "      <td>NaN</td>\n",
       "      <td>NaN</td>\n",
       "    </tr>\n",
       "  </tbody>\n",
       "</table>\n",
       "<p>2 rows × 34 columns</p>\n",
       "</div>"
      ],
      "text/plain": [
       "                          client_msg_id     type  \\\n",
       "0  5de6bc88-704b-4941-81de-2b06abc4d2ae  message   \n",
       "1  ed247811-15b0-43ae-92a8-362cbb1f9018  message   \n",
       "\n",
       "                                                text         user  \\\n",
       "0  Hey,\\n\\nI would kindly invite you to join our ...  U03RA8H1RMG   \n",
       "1                       This is great, thanks a lot!  U03URSK2PJR   \n",
       "\n",
       "             ts         team    user_team  source_team  \\\n",
       "0  1.661327e+09  T02RKFYQV5L  T02RKFYQV5L  T02RKFYQV5L   \n",
       "1  1.661329e+09  T02RKFYQV5L  T02RKFYQV5L  T02RKFYQV5L   \n",
       "\n",
       "                                        user_profile  \\\n",
       "0  {'avatar_hash': 'aa45bbd49037', 'image_72': 'h...   \n",
       "1  {'avatar_hash': '077a2bba0f9c', 'image_72': 'h...   \n",
       "\n",
       "                                         attachments  ... subtype  root  \\\n",
       "0  [{'from_url': 'http://scverse.zulipchat.com/',...  ...     NaN   NaN   \n",
       "1                                                NaN  ...     NaN   NaN   \n",
       "\n",
       "  bot_id bot_profile files  upload  display_as_bot  purpose inviter topic  \n",
       "0    NaN         NaN   NaN     NaN             NaN      NaN     NaN   NaN  \n",
       "1    NaN         NaN   NaN     NaN             NaN      NaN     NaN   NaN  \n",
       "\n",
       "[2 rows x 34 columns]"
      ]
     },
     "execution_count": 5,
     "metadata": {},
     "output_type": "execute_result"
    }
   ],
   "source": [
    "df.head(2)"
   ]
  },
  {
   "cell_type": "markdown",
   "id": "9fff048c",
   "metadata": {},
   "source": [
    "### Creating a user dictionary that matches ID to name"
   ]
  },
  {
   "cell_type": "code",
   "execution_count": 6,
   "id": "684a6231",
   "metadata": {},
   "outputs": [],
   "source": [
    "users_dict = {}\n",
    "for i in range(0,df.shape[0]):\n",
    "    user_id = str(df[\"user\"].iloc[i,])\n",
    "\n",
    "    if user_id not in users_dict:\n",
    "        try:\n",
    "            username = str(df[\"user_profile\"].iloc[i,][\"first_name\"]).capitalize()\n",
    "            users_dict[user_id] = username\n",
    "        except TypeError:\n",
    "            users_dict[user_id] = \"None\"\n"
   ]
  },
  {
   "cell_type": "markdown",
   "id": "dd60fe8d",
   "metadata": {},
   "source": [
    "### Pull out q-and-a dates of interest from df "
   ]
  },
  {
   "cell_type": "code",
   "execution_count": 7,
   "id": "38e9caa3-5fbd-46fa-ae35-fae65710676b",
   "metadata": {},
   "outputs": [],
   "source": [
    "df_qanda = df[df[\"date\"].isin(qanda_dates)]\n",
    "qandamsg_dict = convertDFtoDict(df_qanda)\n",
    "allmsg_dict = convertDFtoDict(df)"
   ]
  },
  {
   "cell_type": "markdown",
   "id": "bce1bef5",
   "metadata": {},
   "source": [
    "### Parse through messages and output Q&A text "
   ]
  },
  {
   "cell_type": "code",
   "execution_count": 8,
   "id": "d141a624",
   "metadata": {},
   "outputs": [],
   "source": [
    "output_file = open(filepath + \n",
    "                   outputfolder + \n",
    "                   interview_company + \n",
    "                   \"_interview.txt\", \"w\")\n",
    "\n",
    "visited_ts = []\n",
    "question_ticker = 1\n",
    "\n",
    "# Sort through dictionary where the messages are stored\n",
    "for ts in dict(sorted(qandamsg_dict.items())):\n",
    "    if ts not in visited_ts:\n",
    "        msg_text = cleanMsg(qandamsg_dict[ts][\"msg_text\"], users_dict)\n",
    "        \n",
    "        # Designate when the next question within the main thread was asked\n",
    "        #if \"?\" in msg_text:\n",
    "        output_file.write(\"\\n\")\n",
    "        output_file.write(\"### Main Thread Question \" + str(question_ticker) + \":\\n\\n\")\n",
    "        question_ticker = question_ticker + 1\n",
    "                        \n",
    "        output_file.write(str(qandamsg_dict[ts][\"user_id\"]) + \n",
    "                          \":\\t\" + msg_text + \"\\n\\n\")\n",
    "        visited_ts.append(ts)\n",
    "        \n",
    "        if len(qandamsg_dict[ts][\"reply_count\"]) > 0:\n",
    "            for ts_reply in qandamsg_dict[ts][\"reply_count\"]:\n",
    "                try:\n",
    "                    reply_msg_text = cleanMsg(allmsg_dict[ts_reply][\"msg_text\"], users_dict)\n",
    "                    output_file.write(str(allmsg_dict[ts_reply][\"user_id\"]) + \n",
    "                                      \":\\t\" + reply_msg_text + \"\\n\\n\")\n",
    "                except KeyError:\n",
    "                    output_file.write(\"Message Outside of Time Window Provided\\n\\n\")\n",
    "                    \n",
    "                visited_ts.append(ts_reply)"
   ]
  }
 ],
 "metadata": {
  "kernelspec": {
   "display_name": "Python 3 (ipykernel)",
   "language": "python",
   "name": "python3"
  },
  "language_info": {
   "codemirror_mode": {
    "name": "ipython",
    "version": 3
   },
   "file_extension": ".py",
   "mimetype": "text/x-python",
   "name": "python",
   "nbconvert_exporter": "python",
   "pygments_lexer": "ipython3",
   "version": "3.11.3"
  }
 },
 "nbformat": 4,
 "nbformat_minor": 5
}
